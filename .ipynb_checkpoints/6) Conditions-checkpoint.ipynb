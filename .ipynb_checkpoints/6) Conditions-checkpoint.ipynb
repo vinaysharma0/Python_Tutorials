{
 "cells": [
  {
   "cell_type": "markdown",
   "metadata": {},
   "source": [
    "![title](Cover/cover.png)"
   ]
  },
  {
   "cell_type": "markdown",
   "metadata": {},
   "source": [
    "Hope you will like my work !\n",
    "\n",
    "Please SUBSCRIBE channel going through this link down below : \n",
    "\n",
    "https://www.youtube.com/channel/UCfayWGHJ9JvTic8NHxfK09Q"
   ]
  },
  {
   "cell_type": "markdown",
   "metadata": {},
   "source": [
    "   "
   ]
  },
  {
   "cell_type": "markdown",
   "metadata": {},
   "source": [
    "----------------------------------"
   ]
  },
  {
   "cell_type": "markdown",
   "metadata": {},
   "source": [
    "# CONDITIONS \n",
    "             Normal Conditions : if-else\n",
    "             Nested Conditions : if-(if-else)-else\n",
    "            "
   ]
  },
  {
   "cell_type": "markdown",
   "metadata": {},
   "source": [
    "--------------------------------"
   ]
  },
  {
   "cell_type": "markdown",
   "metadata": {},
   "source": [
    "# NORMAL CONDITIONS"
   ]
  },
  {
   "cell_type": "markdown",
   "metadata": {},
   "source": [
    "Syntax :\n",
    "    \n",
    "        if (Condition):\n",
    "            *Statements*\n",
    "        elif (Condition):\n",
    "            *Statements*\n",
    "        else:\n",
    "            *Statements*"
   ]
  },
  {
   "cell_type": "markdown",
   "metadata": {},
   "source": [
    "    "
   ]
  },
  {
   "cell_type": "code",
   "execution_count": 1,
   "metadata": {},
   "outputs": [
    {
     "name": "stdout",
     "output_type": "stream",
     "text": [
      "Number 1 is smaller than Number 2\n"
     ]
    }
   ],
   "source": [
    "num1 = 75\n",
    "num2 = 83\n",
    "\n",
    "if (num1 < num2):\n",
    "    print('Number 1 is smaller than Number 2')\n",
    "else:\n",
    "    print('Number 1 is bigger than Number 2')"
   ]
  },
  {
   "cell_type": "code",
   "execution_count": 4,
   "metadata": {},
   "outputs": [
    {
     "name": "stdout",
     "output_type": "stream",
     "text": [
      "Number 1 is bigger than Number 2\n"
     ]
    }
   ],
   "source": [
    "num1 = 83\n",
    "num2 = 80\n",
    "\n",
    "if (num1 < num2):\n",
    "    print('Number 1 is smaller than Number 2')\n",
    "elif (num1 > num2):\n",
    "    print('Number 1 is bigger than Number 2')\n",
    "else:\n",
    "    print('Both numbers are equal')"
   ]
  },
  {
   "cell_type": "code",
   "execution_count": 10,
   "metadata": {},
   "outputs": [
    {
     "name": "stdout",
     "output_type": "stream",
     "text": [
      "Ok ! The answer is TRUE\n"
     ]
    }
   ],
   "source": [
    "bool1 = True\n",
    "\n",
    "if (bool1 == True):\n",
    "    print('Ok ! The answer is TRUE')\n",
    "elif (bool1 == False):\n",
    "    print('Ok ! The answer is FALSE')\n",
    "else:\n",
    "    print('Something went wrong !')"
   ]
  },
  {
   "cell_type": "markdown",
   "metadata": {},
   "source": [
    "----------------------------------"
   ]
  },
  {
   "cell_type": "markdown",
   "metadata": {},
   "source": [
    "# NESTED CONDITIONS"
   ]
  },
  {
   "cell_type": "markdown",
   "metadata": {},
   "source": [
    "Syntax :\n",
    "\n",
    "    if (Condition):\n",
    "        *Statements* // OPTIONAL , NOT MANDATORY\n",
    "        \n",
    "        if (Condition):\n",
    "            *Statements*\n",
    "            --CAN ALSO HAVE ANOTHER NESTED CONDITIONS HERE--\n",
    "        else:\n",
    "            *Statements*\n",
    "    elif (Condition):\n",
    "        \n",
    "        if (Condition):\n",
    "            *Statements*\n",
    "            --CAN ALSO HAVE ANOTHER NESTED CONDITIONS HERE--\n",
    "        else:\n",
    "            *Statements*\n",
    "        --CAN ALSO HAVE ANOTHER NESTED CONDITIONS HERE--\n",
    "    else:\n",
    "        *Statements*"
   ]
  },
  {
   "cell_type": "markdown",
   "metadata": {},
   "source": [
    "    "
   ]
  },
  {
   "cell_type": "code",
   "execution_count": 20,
   "metadata": {},
   "outputs": [
    {
     "name": "stdout",
     "output_type": "stream",
     "text": [
      "num1 and num3 are smaller\n"
     ]
    }
   ],
   "source": [
    "num1 = 75\n",
    "num2 = 85\n",
    "\n",
    "num3 = 0\n",
    "num4 = 1\n",
    "\n",
    "if (num1 < num2):\n",
    "    if (num3 < num4):\n",
    "        print('num1 and num3 are smaller')\n",
    "    elif (num3 > num4):\n",
    "        print('num1 and num4 are smaller.')\n",
    "    else:\n",
    "        print('Both num3 and num4 are equal')\n",
    "elif (num1 > num2):\n",
    "    if (num3 < num4):\n",
    "        print('num2 and num3 are smaller')\n",
    "    elif (num3 > num4):\n",
    "        print('num2 and num4 are smaller.')\n",
    "    else:\n",
    "        print('Both num3 and num4 are equal')\n",
    "else:\n",
    "    print('Both numbers are equal')"
   ]
  }
 ],
 "metadata": {
  "kernelspec": {
   "display_name": "Python 3",
   "language": "python",
   "name": "python3"
  },
  "language_info": {
   "codemirror_mode": {
    "name": "ipython",
    "version": 3
   },
   "file_extension": ".py",
   "mimetype": "text/x-python",
   "name": "python",
   "nbconvert_exporter": "python",
   "pygments_lexer": "ipython3",
   "version": "3.7.6"
  }
 },
 "nbformat": 4,
 "nbformat_minor": 4
}
