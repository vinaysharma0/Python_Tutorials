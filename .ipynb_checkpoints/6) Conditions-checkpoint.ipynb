{
 "cells": [
  {
   "cell_type": "markdown",
   "metadata": {},
   "source": [
    "![title](Cover/cover.png)"
   ]
  },
  {
   "cell_type": "markdown",
   "metadata": {},
   "source": [
    "Hope you will like my work !\n",
    "\n",
    "Please SUBSCRIBE channel going through this link down below : \n",
    "\n",
    "https://www.youtube.com/channel/UCfayWGHJ9JvTic8NHxfK09Q"
   ]
  },
  {
   "cell_type": "markdown",
   "metadata": {},
   "source": [
    "   "
   ]
  },
  {
   "cell_type": "markdown",
   "metadata": {},
   "source": [
    "----------------------------------"
   ]
  },
  {
   "cell_type": "markdown",
   "metadata": {},
   "source": [
    "# CONDITIONS \n",
    "             Normal Conditions : if-else\n",
    "             Nested Conditions : if-(if-else)-else\n",
    "            "
   ]
  },
  {
   "cell_type": "markdown",
   "metadata": {},
   "source": [
    "--------------------------------"
   ]
  },
  {
   "cell_type": "markdown",
   "metadata": {},
   "source": [
    "# NORMAL CONDITIONS"
   ]
  },
  {
   "cell_type": "markdown",
   "metadata": {},
   "source": [
    "Syntax :\n",
    "    \n",
    "        if (Condition):\n",
    "            *Statements*\n",
    "        else:\n",
    "            *Statements*"
   ]
  },
  {
   "cell_type": "markdown",
   "metadata": {},
   "source": [
    "    "
   ]
  },
  {
   "cell_type": "code",
   "execution_count": 1,
   "metadata": {},
   "outputs": [
    {
     "name": "stdout",
     "output_type": "stream",
     "text": [
      "Number 1 is smaller than Number 2\n"
     ]
    }
   ],
   "source": [
    "num1 = 75\n",
    "num2 = 83\n",
    "\n",
    "if (num1 < num2):\n",
    "    print('Number 1 is smaller than Number 2')\n",
    "else:\n",
    "    print('Number 1 is bigger than Number 2')"
   ]
  },
  {
   "cell_type": "code",
   "execution_count": 9,
   "metadata": {},
   "outputs": [
    {
     "name": "stdout",
     "output_type": "stream",
     "text": [
      "Ok ! The answer is TRUE\n"
     ]
    }
   ],
   "source": [
    "bool1 = True\n",
    "bool2 = False\n",
    "\n",
    "if (bool1):\n",
    "    print('Ok ! The answer is TRUE')\n",
    "else:\n",
    "    print('The answer is FALSE')"
   ]
  },
  {
   "cell_type": "markdown",
   "metadata": {},
   "source": [
    "----------------------------------"
   ]
  },
  {
   "cell_type": "markdown",
   "metadata": {},
   "source": [
    "# NESTED CONDITIONS"
   ]
  },
  {
   "cell_type": "markdown",
   "metadata": {},
   "source": [
    "Syntax :\n",
    "\n",
    "    if (Condition):\n",
    "        *Statements* // OPTIONAL , NOT MANDATORY\n",
    "        \n",
    "        if (Condition):\n",
    "            *Statements*\n",
    "            --CAN ALSO HAVE ANOTHER NESTED CONDITIONS HERE--\n",
    "        else:\n",
    "            *Statements*\n",
    "        \n",
    "        if (Condition):\n",
    "            *Statements*\n",
    "            --CAN ALSO HAVE ANOTHER NESTED CONDITIONS HERE--\n",
    "        else:\n",
    "            *Statements*\n",
    "        --CAN ALSO HAVE ANOTHER NESTED CONDITIONS HERE--\n",
    "    else:\n",
    "        *Statements*"
   ]
  },
  {
   "cell_type": "markdown",
   "metadata": {},
   "source": [
    "    "
   ]
  },
  {
   "cell_type": "code",
   "execution_count": 17,
   "metadata": {},
   "outputs": [
    {
     "name": "stdout",
     "output_type": "stream",
     "text": [
      "Ok ! The Condition matches.\n",
      "Number 1 is smaller than Number 2\n"
     ]
    }
   ],
   "source": [
    "num1 = 75\n",
    "num2 = 83\n",
    "\n",
    "num3 = 0\n",
    "num4 = 1\n",
    "\n",
    "if (num1 < num2):\n",
    "    if (num3 < num4):\n",
    "        print('Ok ! The Condition matches.')\n",
    "        print('Number 1 is smaller than Number 2')\n",
    "    else:\n",
    "        print('The 1st inner Condition doesnt match.')\n",
    "        print('Please check again !')\n",
    "else:\n",
    "    print('Number 1 is bigger than Number 2')"
   ]
  },
  {
   "cell_type": "code",
   "execution_count": 18,
   "metadata": {},
   "outputs": [
    {
     "name": "stdout",
     "output_type": "stream",
     "text": [
      "The 1st inner Condition doesnt match.\n",
      "Please check again !\n"
     ]
    }
   ],
   "source": [
    "num1 = 75\n",
    "num2 = 83\n",
    "\n",
    "num3 = 0\n",
    "num4 = 1\n",
    "\n",
    "if (num1 < num2):\n",
    "    if (num3 > num4):\n",
    "        print('Ok ! The Condition matches.')\n",
    "        print('Number 1 is smaller than Number 2')\n",
    "    else:\n",
    "        print('The 1st inner Condition doesnt match.')\n",
    "        print('Please check again !')\n",
    "else:\n",
    "    print('Number 1 is bigger than Number 2')"
   ]
  },
  {
   "cell_type": "code",
   "execution_count": 19,
   "metadata": {},
   "outputs": [
    {
     "name": "stdout",
     "output_type": "stream",
     "text": [
      "Number 1 is bigger than Number 2\n"
     ]
    }
   ],
   "source": [
    "num1 = 85\n",
    "num2 = 83\n",
    "\n",
    "num3 = 0\n",
    "num4 = 1\n",
    "\n",
    "if (num1 < num2):\n",
    "    if (num3 > num4):\n",
    "        print('Ok ! The Condition matches.')\n",
    "        print('Number 1 is smaller than Number 2')\n",
    "    else:\n",
    "        print('The 1st inner Condition doesnt match.')\n",
    "        print('Please check again !')\n",
    "else:\n",
    "    print('Number 1 is bigger than Number 2')"
   ]
  }
 ],
 "metadata": {
  "kernelspec": {
   "display_name": "Python 3",
   "language": "python",
   "name": "python3"
  },
  "language_info": {
   "codemirror_mode": {
    "name": "ipython",
    "version": 3
   },
   "file_extension": ".py",
   "mimetype": "text/x-python",
   "name": "python",
   "nbconvert_exporter": "python",
   "pygments_lexer": "ipython3",
   "version": "3.7.6"
  }
 },
 "nbformat": 4,
 "nbformat_minor": 4
}
