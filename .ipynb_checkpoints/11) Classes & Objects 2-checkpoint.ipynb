{
 "cells": [
  {
   "cell_type": "markdown",
   "metadata": {},
   "source": [
    "![](Cover/cover.png)"
   ]
  },
  {
   "cell_type": "markdown",
   "metadata": {},
   "source": [
    "Hope you will like my work !\n",
    "\n",
    "Please SUBSCRIBE channel going through this link down below :\n",
    "\n",
    "https://www.youtube.com/channel/UCfayWGHJ9JvTic8NHxfK09Q\n"
   ]
  },
  {
   "cell_type": "markdown",
   "metadata": {},
   "source": [
    "    "
   ]
  },
  {
   "cell_type": "markdown",
   "metadata": {},
   "source": [
    "----------------------"
   ]
  },
  {
   "cell_type": "markdown",
   "metadata": {},
   "source": [
    "# CLASSES & OBJECTS\n",
    "\n",
    "            1) Class\n",
    "            2) Constructor\n",
    "            3) Methods (Special Functions)\n",
    "            4) Objects\n",
    "            5) Class Variable vs Instance Variable\n",
    "            6) Inheritance\n",
    "            7) Polymorphism"
   ]
  },
  {
   "cell_type": "markdown",
   "metadata": {},
   "source": [
    "----------------------------"
   ]
  },
  {
   "cell_type": "markdown",
   "metadata": {},
   "source": [
    "# Class | Constructor | Methods | Objects"
   ]
  },
  {
   "cell_type": "markdown",
   "metadata": {},
   "source": [
    "Syntax :\n",
    "    \n",
    "        class class_name:\n",
    "            ** Methods / Statements / Variable/ Anything**\n",
    "            \n",
    "            \n",
    "           \n",
    "            $END$ not in syntax\n",
    "   * Always keep first letter of class name in UPPER CASE."
   ]
  },
  {
   "cell_type": "code",
   "execution_count": 3,
   "metadata": {},
   "outputs": [],
   "source": [
    "# creating simple class\n",
    "class Car:\n",
    "    def __init__(self, name,model): # __init__ is class constructor here.\n",
    "        self.name = name\n",
    "        self.model = model"
   ]
  },
  {
   "cell_type": "code",
   "execution_count": 4,
   "metadata": {},
   "outputs": [],
   "source": [
    "c1 = Car('Alto','800')"
   ]
  },
  {
   "cell_type": "code",
   "execution_count": 6,
   "metadata": {},
   "outputs": [],
   "source": [
    "# creating simple class\n",
    "class Car:\n",
    "    def __init__(self, name,model):\n",
    "        self.name = name\n",
    "        self.model = model\n",
    "        \n",
    "    def display(self): # Method\n",
    "        print('Name : {} || Model : {}'.format(self.name, self.model))"
   ]
  },
  {
   "cell_type": "code",
   "execution_count": 8,
   "metadata": {},
   "outputs": [],
   "source": [
    "# creating object of class 'Car'\n",
    "c1 = Car('Alto','800')"
   ]
  },
  {
   "cell_type": "code",
   "execution_count": 9,
   "metadata": {},
   "outputs": [
    {
     "name": "stdout",
     "output_type": "stream",
     "text": [
      "Name : Alto || Model : 800\n"
     ]
    }
   ],
   "source": [
    "# Displaying name and model by using display() method that was created in Car class\n",
    "c1.display()"
   ]
  },
  {
   "cell_type": "markdown",
   "metadata": {},
   "source": [
    "-----------------------------"
   ]
  },
  {
   "cell_type": "markdown",
   "metadata": {},
   "source": [
    "# Class Variable vs Instance Variable"
   ]
  },
  {
   "cell_type": "markdown",
   "metadata": {},
   "source": [
    "Class Variable : \n",
    "    \n",
    "* Variable that is created inside a class but outside any other class methods and is shared with all instances/objects of class.\n",
    "\n",
    "Instance Variable : \n",
    "    \n",
    "* Variable that is created inside any class method and this variable will be accessible to only current instance/object of the class."
   ]
  },
  {
   "cell_type": "code",
   "execution_count": 115,
   "metadata": {},
   "outputs": [],
   "source": [
    "class Bag:\n",
    "    books = 0 # Class Variable\n",
    "    \n",
    "    def __init__():\n",
    "        pass\n",
    "    \n",
    "    def display():\n",
    "        pen = 10 # Instance Variable\n",
    "        print('Instance Variable is : {}'.format(pen))"
   ]
  },
  {
   "cell_type": "code",
   "execution_count": 11,
   "metadata": {},
   "outputs": [
    {
     "data": {
      "text/plain": [
       "0"
      ]
     },
     "execution_count": 11,
     "metadata": {},
     "output_type": "execute_result"
    }
   ],
   "source": [
    "# We can access this variable directly because its a class variable\n",
    "Bag.books"
   ]
  },
  {
   "cell_type": "code",
   "execution_count": 116,
   "metadata": {},
   "outputs": [
    {
     "ename": "AttributeError",
     "evalue": "type object 'Bag' has no attribute 'pen'",
     "output_type": "error",
     "traceback": [
      "\u001b[0;31m---------------------------------------------------------------------------\u001b[0m",
      "\u001b[0;31mAttributeError\u001b[0m                            Traceback (most recent call last)",
      "\u001b[0;32m<ipython-input-116-bbd5389ba736>\u001b[0m in \u001b[0;36m<module>\u001b[0;34m\u001b[0m\n\u001b[1;32m      1\u001b[0m \u001b[0;31m# we can't access this variable through class directly because its a instance variable and can only be accessed by instances.\u001b[0m\u001b[0;34m\u001b[0m\u001b[0;34m\u001b[0m\u001b[0;34m\u001b[0m\u001b[0m\n\u001b[0;32m----> 2\u001b[0;31m \u001b[0mBag\u001b[0m\u001b[0;34m.\u001b[0m\u001b[0mpen\u001b[0m\u001b[0;34m\u001b[0m\u001b[0;34m\u001b[0m\u001b[0m\n\u001b[0m",
      "\u001b[0;31mAttributeError\u001b[0m: type object 'Bag' has no attribute 'pen'"
     ]
    }
   ],
   "source": [
    "# we can't access this variable through class directly because its a instance variable and can only be accessed by instances.\n",
    "Bag.pen"
   ]
  },
  {
   "cell_type": "code",
   "execution_count": 14,
   "metadata": {},
   "outputs": [],
   "source": [
    "# creating instance/ object\n",
    "b1 = Bag"
   ]
  },
  {
   "cell_type": "code",
   "execution_count": 118,
   "metadata": {},
   "outputs": [
    {
     "name": "stdout",
     "output_type": "stream",
     "text": [
      "Instance Variable is : 10\n"
     ]
    }
   ],
   "source": [
    "# displaying instance variable (pen) by using instance\n",
    "b1.display()"
   ]
  },
  {
   "cell_type": "markdown",
   "metadata": {},
   "source": [
    "   "
   ]
  },
  {
   "cell_type": "markdown",
   "metadata": {},
   "source": [
    "-------------------"
   ]
  },
  {
   "cell_type": "markdown",
   "metadata": {},
   "source": [
    "# Inheritance"
   ]
  },
  {
   "cell_type": "markdown",
   "metadata": {},
   "source": [
    "* EXAMPLE - 1"
   ]
  },
  {
   "cell_type": "code",
   "execution_count": 119,
   "metadata": {},
   "outputs": [],
   "source": [
    "# Creating two classes Parent & Child as the Base/Super class & Subclass\n",
    "class Parent:\n",
    "    \n",
    "    def __init__(self, pname):\n",
    "        self.pname = pname\n",
    "        \n",
    "    def display_name(self):\n",
    "        print('Parent name : {}'.format(self.pname))\n",
    "        \n",
    "        \n",
    "class Child(Parent):\n",
    "    \n",
    "    def __init__(self,pname, name):\n",
    "        self.name = name\n",
    "        Parent.__init__(self, pname)\n",
    "    def display_name(self):\n",
    "        print('Child name : {}'.format(self.name))\n",
    "        print('Parent name : {}'.format(self.pname))"
   ]
  },
  {
   "cell_type": "code",
   "execution_count": 110,
   "metadata": {},
   "outputs": [],
   "source": [
    "c1 = Child('Mr. ABC','abc')"
   ]
  },
  {
   "cell_type": "code",
   "execution_count": 114,
   "metadata": {},
   "outputs": [
    {
     "name": "stdout",
     "output_type": "stream",
     "text": [
      "Child name : abc\n",
      "Parent name : Mr. ABC\n"
     ]
    }
   ],
   "source": [
    "c1.display_name()"
   ]
  },
  {
   "cell_type": "code",
   "execution_count": 112,
   "metadata": {},
   "outputs": [],
   "source": [
    "p1 = Parent('Mr XYZ')"
   ]
  },
  {
   "cell_type": "code",
   "execution_count": 113,
   "metadata": {},
   "outputs": [
    {
     "name": "stdout",
     "output_type": "stream",
     "text": [
      "Parent name : Mr XYZ\n"
     ]
    }
   ],
   "source": [
    "p1.display_name()"
   ]
  },
  {
   "cell_type": "markdown",
   "metadata": {},
   "source": [
    "   "
   ]
  },
  {
   "cell_type": "markdown",
   "metadata": {},
   "source": [
    "* EXAMPLE - 2"
   ]
  },
  {
   "cell_type": "code",
   "execution_count": 121,
   "metadata": {},
   "outputs": [],
   "source": [
    "# Father Class\n",
    "\n",
    "class Father:\n",
    "    \n",
    "    def __init__(self, f_name, f_nose, f_smile):\n",
    "        self.f_name = f_name\n",
    "        self.f_nose = f_nose\n",
    "        self.f_smile = f_smile\n",
    "    \n",
    "    def display_characteristic(self):\n",
    "        print(\"Father's name : {} || Father's nose : {} || Father's smile : {}\".format(self.f_name, self.f_nose, self.f_smile))\n"
   ]
  },
  {
   "cell_type": "code",
   "execution_count": 122,
   "metadata": {},
   "outputs": [],
   "source": [
    "# Mother Class\n",
    "class Mother:\n",
    "    \n",
    "    def __init__(self, m_name, m_nose, m_smile):\n",
    "        self.m_name = m_name\n",
    "        self.m_nose = m_nose\n",
    "        self.m_smile = m_smile\n",
    "    \n",
    "    def display_characteristic(self):\n",
    "        print(\"Mother's name : {} || Mother's nose : {} || Mother's smile : {}\".format(self.m_name, self.m_nose, self.m_smile))\n"
   ]
  },
  {
   "cell_type": "code",
   "execution_count": 151,
   "metadata": {},
   "outputs": [],
   "source": [
    "# Son Class\n",
    "class Son(Father,Mother):\n",
    "    \n",
    "    def __init__(self,f_name, f_nose, f_smile, m_name, m_nose, m_smile, s_name):\n",
    "        self.s_name = s_name\n",
    "        Father.__init__(self, f_name, f_nose, f_smile)\n",
    "        Mother.__init__(self,m_name, m_nose, m_smile)\n",
    "    def display_characteristic(self):\n",
    "        print(\"Father's name : {} || Mother's name : {}\".format(self.f_name, self.m_name))\n",
    "        print(\"\\n\")\n",
    "        print(\"Son's name : {} || Son's nose similar to : {} || Son's smile similar to : {}\".format(self.s_name, self.m_nose, self.f_smile))"
   ]
  },
  {
   "cell_type": "code",
   "execution_count": 152,
   "metadata": {},
   "outputs": [],
   "source": [
    "s1 = Son('Mr. Tom',\"Tom's Nose\",\"Tom's Smile\",  \"Charlotte\", \"Charlotte's Nose\", \"Charlotte's Smile\", \"Bob\")"
   ]
  },
  {
   "cell_type": "code",
   "execution_count": 153,
   "metadata": {},
   "outputs": [
    {
     "name": "stdout",
     "output_type": "stream",
     "text": [
      "Father's name : Mr. Tom || Mother's name : Charlotte\n",
      "\n",
      "\n",
      "Son's name : Bob || Son's nose similar to : Charlotte's Nose || Son's smile similar to : Tom's Smile\n"
     ]
    }
   ],
   "source": [
    "s1.display_characteristic()"
   ]
  },
  {
   "cell_type": "markdown",
   "metadata": {},
   "source": [
    "------------------------------"
   ]
  },
  {
   "cell_type": "markdown",
   "metadata": {},
   "source": [
    "# Polymorphism"
   ]
  },
  {
   "cell_type": "code",
   "execution_count": null,
   "metadata": {},
   "outputs": [],
   "source": []
  }
 ],
 "metadata": {
  "kernelspec": {
   "display_name": "Python 3",
   "language": "python",
   "name": "python3"
  },
  "language_info": {
   "codemirror_mode": {
    "name": "ipython",
    "version": 3
   },
   "file_extension": ".py",
   "mimetype": "text/x-python",
   "name": "python",
   "nbconvert_exporter": "python",
   "pygments_lexer": "ipython3",
   "version": "3.7.6"
  }
 },
 "nbformat": 4,
 "nbformat_minor": 4
}
