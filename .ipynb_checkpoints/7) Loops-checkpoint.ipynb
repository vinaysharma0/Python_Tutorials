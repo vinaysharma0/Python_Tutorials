{
 "cells": [
  {
   "cell_type": "markdown",
   "metadata": {},
   "source": [
    "![title](Cover/cover.png)"
   ]
  },
  {
   "cell_type": "markdown",
   "metadata": {},
   "source": [
    "Hope you will like my work !\n",
    "\n",
    "Please SUBSCRIBE channel going through this link down below :\n",
    "\n",
    "https://www.youtube.com/channel/UCfayWGHJ9JvTic8NHxfK09Q\n"
   ]
  },
  {
   "cell_type": "markdown",
   "metadata": {},
   "source": [
    "   "
   ]
  },
  {
   "cell_type": "markdown",
   "metadata": {},
   "source": [
    "----------------------------"
   ]
  },
  {
   "cell_type": "markdown",
   "metadata": {},
   "source": [
    "# LOOPS\n",
    "\n",
    "        1) FOR loop\n",
    "        2) WHILE loop\n"
   ]
  },
  {
   "cell_type": "markdown",
   "metadata": {},
   "source": [
    "----------------------------------"
   ]
  },
  {
   "cell_type": "markdown",
   "metadata": {},
   "source": [
    "# FOR LOOP"
   ]
  },
  {
   "cell_type": "markdown",
   "metadata": {},
   "source": [
    "Syntax :\n",
    "        \n",
    "        for i in var_name/any_range :\n",
    "            *Statements*"
   ]
  },
  {
   "cell_type": "markdown",
   "metadata": {},
   "source": [
    "  "
   ]
  },
  {
   "cell_type": "code",
   "execution_count": 1,
   "metadata": {},
   "outputs": [],
   "source": [
    "# Creating a list\n",
    "\n",
    "abc = [1,2,3,4,5,6]"
   ]
  },
  {
   "cell_type": "code",
   "execution_count": 2,
   "metadata": {},
   "outputs": [
    {
     "name": "stdout",
     "output_type": "stream",
     "text": [
      "1\n",
      "2\n",
      "3\n",
      "4\n",
      "5\n",
      "6\n"
     ]
    }
   ],
   "source": [
    "# for loop by using list\n",
    "\n",
    "for i in abc:\n",
    "    print(i) # will print every single value of list abc "
   ]
  },
  {
   "cell_type": "code",
   "execution_count": 3,
   "metadata": {},
   "outputs": [
    {
     "name": "stdout",
     "output_type": "stream",
     "text": [
      "0\n",
      "1\n",
      "2\n",
      "3\n",
      "4\n",
      "5\n",
      "6\n",
      "7\n",
      "8\n",
      "9\n"
     ]
    }
   ],
   "source": [
    "# for loop by using range function\n",
    "\n",
    "for i in range(0,10):\n",
    "    print(i) # as i have told you before that last index won't be included , so thats why 10 will not get printed but 0 will."
   ]
  },
  {
   "cell_type": "code",
   "execution_count": 7,
   "metadata": {},
   "outputs": [
    {
     "name": "stdout",
     "output_type": "stream",
     "text": [
      "index :  0\n",
      "index :  1\n",
      "index :  2\n",
      "index :  3\n",
      "index :  4\n",
      "index :  5\n"
     ]
    }
   ],
   "source": [
    "# for loop with if condition\n",
    "for i in range(0,10):\n",
    "    print('index : ' , i)\n",
    "    if (i == 5):\n",
    "        break      # break this loop when the given condition hits true"
   ]
  },
  {
   "cell_type": "code",
   "execution_count": 33,
   "metadata": {},
   "outputs": [
    {
     "name": "stdout",
     "output_type": "stream",
     "text": [
      "H\n",
      "e\n",
      "l\n",
      "l\n",
      "o\n",
      " \n",
      "C\n",
      "o\n",
      "d\n",
      "e\n",
      " \n",
      "F\n",
      "l\n",
      "e\n",
      "e\n",
      "t\n"
     ]
    }
   ],
   "source": [
    "# for loop with String\n",
    "text = 'Hello Code Fleet'\n",
    "for i in text:\n",
    "    print(i)"
   ]
  },
  {
   "cell_type": "markdown",
   "metadata": {},
   "source": [
    "---------------------------------"
   ]
  },
  {
   "cell_type": "markdown",
   "metadata": {},
   "source": [
    "# WHILE LOOP"
   ]
  },
  {
   "cell_type": "markdown",
   "metadata": {},
   "source": [
    "Syntax : \n",
    "    \n",
    "        while (condition):\n",
    "            *Statements*\n",
    "            increment/decrement"
   ]
  },
  {
   "cell_type": "code",
   "execution_count": 48,
   "metadata": {},
   "outputs": [
    {
     "name": "stdout",
     "output_type": "stream",
     "text": [
      "index : 0 \n",
      "index : 1 \n",
      "index : 2 \n",
      "index : 3 \n",
      "index : 4 \n",
      "index : 5 \n",
      "index : 6 \n",
      "index : 7 \n",
      "index : 8 \n",
      "index : 9 \n"
     ]
    }
   ],
   "source": [
    "i = 0 #variable\n",
    "while i < 10: #condition\n",
    "    print('index : {} '.format(i)) #statement\n",
    "    i += 1 #Increment"
   ]
  },
  {
   "cell_type": "code",
   "execution_count": 54,
   "metadata": {},
   "outputs": [
    {
     "name": "stdout",
     "output_type": "stream",
     "text": [
      "index : 0 \n",
      "index : 1 \n",
      "index : 2 \n",
      "index : 3 \n",
      "index : 4 \n",
      "index : 5 \n"
     ]
    }
   ],
   "source": [
    "#while loop with condition\n",
    "i = 0 \n",
    "while i < 10:\n",
    "    if (i <= 5):\n",
    "        print('index : {} '.format(i)) \n",
    "    i += 1"
   ]
  },
  {
   "cell_type": "code",
   "execution_count": 68,
   "metadata": {},
   "outputs": [
    {
     "name": "stdout",
     "output_type": "stream",
     "text": [
      "C  =  0\n",
      "o  =  1\n",
      "d  =  2\n",
      "e  =  3\n",
      "   =  4\n",
      "F  =  5\n",
      "l  =  6\n",
      "e  =  7\n",
      "e  =  8\n",
      "t  =  9\n"
     ]
    }
   ],
   "source": [
    "#while loop with text\n",
    "i = 0 \n",
    "text = 'Code Fleet'\n",
    "while i < 10:\n",
    "    print(text[i],' = ', i) \n",
    "    i += 1"
   ]
  },
  {
   "cell_type": "code",
   "execution_count": 71,
   "metadata": {},
   "outputs": [
    {
     "name": "stdout",
     "output_type": "stream",
     "text": [
      "C  =  0\n",
      "o  =  1\n",
      "d  =  2\n",
      "e  =  3\n",
      "   =  4\n",
      "F  =  5\n",
      "l  =  6\n",
      "e  =  7\n",
      "e  =  8\n",
      "t  =  9\n"
     ]
    }
   ],
   "source": [
    "#while loop with text\n",
    "i = 0 \n",
    "text = 'Code Fleet'\n",
    "while i < len(text):\n",
    "    print(text[i],' = ', i) \n",
    "    i += 1"
   ]
  },
  {
   "cell_type": "markdown",
   "metadata": {},
   "source": [
    "--------------------------------------------"
   ]
  },
  {
   "cell_type": "markdown",
   "metadata": {},
   "source": [
    "# TO DO :\n",
    "    \n",
    "        Try something new that only you can think of like i did and made a dynamical char & index printer with while loop\n",
    "        \n",
    "        \n",
    "            *It's really fun, just give it a try !*"
   ]
  }
 ],
 "metadata": {
  "kernelspec": {
   "display_name": "Python 3",
   "language": "python",
   "name": "python3"
  },
  "language_info": {
   "codemirror_mode": {
    "name": "ipython",
    "version": 3
   },
   "file_extension": ".py",
   "mimetype": "text/x-python",
   "name": "python",
   "nbconvert_exporter": "python",
   "pygments_lexer": "ipython3",
   "version": "3.7.6"
  }
 },
 "nbformat": 4,
 "nbformat_minor": 4
}
