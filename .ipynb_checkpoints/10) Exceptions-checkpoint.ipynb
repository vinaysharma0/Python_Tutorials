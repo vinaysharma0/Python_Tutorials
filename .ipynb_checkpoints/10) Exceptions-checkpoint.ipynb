{
 "cells": [
  {
   "cell_type": "markdown",
   "metadata": {},
   "source": [
    "![](Cover/cover.png)"
   ]
  },
  {
   "cell_type": "markdown",
   "metadata": {},
   "source": [
    "Hope you will like my work !\n",
    "\n",
    "Please SUBSCRIBE channel going through this link down below :\n",
    "\n",
    "https://www.youtube.com/channel/UCfayWGHJ9JvTic8NHxfK09Q\n"
   ]
  },
  {
   "cell_type": "markdown",
   "metadata": {},
   "source": [
    "   "
   ]
  },
  {
   "cell_type": "markdown",
   "metadata": {},
   "source": [
    "-------------------------"
   ]
  },
  {
   "cell_type": "markdown",
   "metadata": {},
   "source": [
    "# EXCEPTIONS"
   ]
  },
  {
   "cell_type": "markdown",
   "metadata": {},
   "source": [
    "Syntax : \n",
    "\n",
    "        try:\n",
    "           You do your operations here;\n",
    "           ......................\n",
    "        except ExceptionI:\n",
    "           If there is ExceptionI, then execute this block.\n",
    "        except ExceptionII:\n",
    "           If there is ExceptionII, then execute this block.\n",
    "           ......................\n",
    "        finally:\n",
    "           If there is no exception then execute this block. \n",
    "\n",
    "\n",
    "** In except block either you can use pre-defined erors or you can define your own error."
   ]
  },
  {
   "cell_type": "markdown",
   "metadata": {},
   "source": [
    "----------------------------"
   ]
  },
  {
   "cell_type": "code",
   "execution_count": 21,
   "metadata": {},
   "outputs": [
    {
     "name": "stdout",
     "output_type": "stream",
     "text": [
      "Everything seems right !\n"
     ]
    }
   ],
   "source": [
    "# try and except blocks\n",
    "a = 1\n",
    "\n",
    "try:\n",
    "    print('Everything seems right !')\n",
    "except:\n",
    "    print('something went wrong !')\n"
   ]
  },
  {
   "cell_type": "code",
   "execution_count": 20,
   "metadata": {},
   "outputs": [
    {
     "name": "stdout",
     "output_type": "stream",
     "text": [
      "something went wrong !\n"
     ]
    }
   ],
   "source": [
    "# try and except block\n",
    "a = 1\n",
    "\n",
    "try:\n",
    "    print(b) # b doesn't exist so it will go to except block\n",
    "except:\n",
    "    print('something went wrong !')\n"
   ]
  },
  {
   "cell_type": "code",
   "execution_count": 16,
   "metadata": {},
   "outputs": [
    {
     "name": "stdout",
     "output_type": "stream",
     "text": [
      "1\n",
      "This is last block\n"
     ]
    }
   ],
   "source": [
    "# try , except and finally block\n",
    "# finally block always be executed regardless the conditions of other blocks.\n",
    "a = 1\n",
    "\n",
    "try:\n",
    "    print(a)\n",
    "except Exception:\n",
    "    print('something went wrong !')\n",
    "finally:\n",
    "    print('This is last block')"
   ]
  },
  {
   "cell_type": "code",
   "execution_count": null,
   "metadata": {},
   "outputs": [],
   "source": []
  }
 ],
 "metadata": {
  "kernelspec": {
   "display_name": "Python 3",
   "language": "python",
   "name": "python3"
  },
  "language_info": {
   "codemirror_mode": {
    "name": "ipython",
    "version": 3
   },
   "file_extension": ".py",
   "mimetype": "text/x-python",
   "name": "python",
   "nbconvert_exporter": "python",
   "pygments_lexer": "ipython3",
   "version": "3.7.6"
  }
 },
 "nbformat": 4,
 "nbformat_minor": 4
}
